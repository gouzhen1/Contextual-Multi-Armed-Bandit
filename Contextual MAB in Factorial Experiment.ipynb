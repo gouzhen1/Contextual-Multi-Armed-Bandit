{
 "cells": [
  {
   "cell_type": "code",
   "execution_count": 1,
   "metadata": {},
   "outputs": [],
   "source": [
    "import numpy as np\n",
    "import pandas as pd\n",
    "\n",
    "%matplotlib inline\n",
    "import matplotlib.pyplot as plt\n",
    "from numpy.linalg import inv\n",
    "plt.style.use('seaborn-whitegrid')\n",
    "\n",
    "np.random.seed(0)"
   ]
  },
  {
   "cell_type": "code",
   "execution_count": 2,
   "metadata": {},
   "outputs": [],
   "source": [
    "#Base bandit class\n",
    "class Agent():\n",
    "    def __init__(self, n_feature, action_space):\n",
    "        self.action_space = action_space\n",
    "    \n",
    "    def pick_actions(self,contexts):\n",
    "        pass\n",
    "    \n",
    "    def update_model(self,x,a,r):\n",
    "        pass\n",
    "\n",
    "#random bandit\n",
    "class RandomBandit(Agent):\n",
    "    def __init__(self, n_feature, action_space):\n",
    "        Agent.__init__(self,n_feature, action_space)\n",
    "        \n",
    "    def pick_actions(self,contexts):\n",
    "        actions = {}\n",
    "        for action in self.action_space:\n",
    "            actions[action] = np.random.choice(self.action_space[action])\n",
    "        return actions\n",
    "    \n",
    "class Thompson_Sampling_Bayesian_Bandit(Agent):\n",
    "    def __init__(self, n_feature, action_space):\n",
    "        Agent.__init__(self,n_feature, action_space)\n",
    "        \n",
    "    def pick_actions(self,contexts):\n",
    "        actions = {}\n",
    "        for action in self.action_space:\n",
    "            actions[action] = np.random.choice(self.action_space[action])\n",
    "        return actions\n",
    "    \n",
    "    def update_model(self,contexts,actions,r):\n",
    "        pass"
   ]
  },
  {
   "cell_type": "code",
   "execution_count": 4,
   "metadata": {},
   "outputs": [
    {
     "data": {
      "image/png": "[encoded data removed]",
      "text/plain": [
       "<Figure size 432x288 with 1 Axes>"
      ]
     },
     "metadata": {
      "needs_background": "light"
     },
     "output_type": "display_data"
    }
   ],
   "source": [
    "#class that runs simulation and plot regrets\n",
    "class Experiment():\n",
    "    def __init__(self, iterations, agent, context_variables, action_space,):\n",
    "        self.agent = agent\n",
    "        self.iterations = iterations\n",
    "        self.context_variables = context_variables\n",
    "        self.action_space = action_space\n",
    "        \n",
    "    def get_true_reward(self, contexts,actions):\n",
    "        return 30. + (-5.) * contexts['C0'] + 10.0 * contexts['C1'] \\\n",
    "                   + 12. * contexts['C0'] * actions['A0'] + (-8.) * contexts['C1'] * actions['A0'] \\\n",
    "                   + (-10.) * contexts['C0'] * actions['A1'] + 15. * contexts['C1'] * actions['A1'] \\\n",
    "                   + np.random.rand() * 5.\n",
    "    \n",
    "    def get_rand_context(self):\n",
    "        contexts = {}\n",
    "        for var in self.context_variables:\n",
    "            contexts[var] = np.random.randint(0,5)\n",
    "        return contexts\n",
    "    \n",
    "    def get_optimal_actions(self,contexts):\n",
    "        all_possible_a = [{}]\n",
    "        for cur in self.action_space:\n",
    "            cur_options = self.action_space[cur]\n",
    "            new_possible = []\n",
    "            for a in all_possible_a:\n",
    "                for cur_a in cur_options:\n",
    "                    new_a = a.copy()\n",
    "                    new_a[cur] = cur_a\n",
    "                    new_possible.append(new_a)\n",
    "            all_possible_a = new_possible\n",
    "        return all_possible_a[np.argmax([self.get_true_reward(contexts,a) for a in all_possible_a])]\n",
    "                  \n",
    "    def run(self):\n",
    "        regret = 0.\n",
    "        regret_list = []\n",
    "        for i in range(self.iterations):\n",
    "            contexts = self.get_rand_context()\n",
    "            actions = self.agent.pick_actions(contexts)\n",
    "            r = self.get_true_reward(contexts,actions)\n",
    "            self.agent.update_model(contexts,actions,r)\n",
    "            regret += abs(r - self.get_true_reward(contexts,self.get_optimal_actions(contexts)))\n",
    "            regret_list.append(regret)\n",
    "        \n",
    "        #plot regrets\n",
    "        fig,ax = plt.subplots()\n",
    "        ax.set_title('Cumulative Regret')\n",
    "        ax.set_xlabel('t')\n",
    "        ax.set_ylabel('regret')\n",
    "        #ax.set_ylim(0.,200.)\n",
    "        ax.plot(regret_list, label=str(type(self.agent).__name__))\n",
    "        ax.legend()\n",
    "            \n",
    "action_space = {'A0':[0,1], 'A1':[0,1,2]}\n",
    "agent = RandomBandit(100,action_space)\n",
    "exp = Experiment(100, RandomBandit(0,action_space),['C0','C1'],action_space)\n",
    "exp.run()"
   ]
  },
  {
   "cell_type": "code",
   "execution_count": null,
   "metadata": {},
   "outputs": [],
   "source": []
  },
  {
   "cell_type": "code",
   "execution_count": null,
   "metadata": {},
   "outputs": [],
   "source": []
  }
 ],
 "metadata": {
  "kernelspec": {
   "display_name": "Python 3",
   "language": "python",
   "name": "python3"
  },
  "language_info": {
   "codemirror_mode": {
    "name": "ipython",
    "version": 3
   },
   "file_extension": ".py",
   "mimetype": "text/x-python",
   "name": "python",
   "nbconvert_exporter": "python",
   "pygments_lexer": "ipython3",
   "version": "3.6.6"
  }
 },
 "nbformat": 4,
 "nbformat_minor": 2
}
