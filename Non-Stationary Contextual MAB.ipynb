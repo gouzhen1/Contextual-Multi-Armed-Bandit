{
 "cells": [
  {
   "cell_type": "code",
   "execution_count": 1,
   "metadata": {},
   "outputs": [
    {
     "name": "stdout",
     "output_type": "stream",
     "text": [
      "true thetas for actions\n",
      "action 0: [0.74406752 1.57594683 1.01381688]\n",
      "action 1: [0.72441591 0.118274   1.22947057]\n",
      "action 2: [0.18793606 2.458865   2.8183138 ]\n",
      "action 3: [-0.08279241  1.95862519  0.6444746 ]\n",
      "action 4: [ 0.84022281  2.62798319 -1.64481971]\n"
     ]
    }
   ],
   "source": [
    "import numpy as np\n",
    "%matplotlib inline\n",
    "import matplotlib.pyplot as plt\n",
    "from numpy.linalg import inv\n",
    "plt.style.use('seaborn-whitegrid')\n",
    "\n",
    "#Generate ground truth models\n",
    "#Here we assume the reward is linear in the context.\n",
    "#each action has a theta which is the weights for the context feature vector\n",
    "np.random.seed(0)\n",
    "N_FEATURE = 3\n",
    "N_ACTION = 5\n",
    "TRUE_THETAS = np.random.rand(N_ACTION,N_FEATURE) * 5. - 2.\n",
    "def get_true_thetas(a):\n",
    "    return TRUE_THETAS[a]\n",
    "def get_true_reward(x,a):\n",
    "    return np.dot(x,get_true_thetas(a))\n",
    "def get_rand_context():\n",
    "    return np.random.randint(0,5,(N_FEATURE))\n",
    "def get_optimal_action(x):\n",
    "    return np.argmax([get_true_reward(x,a) for a in range(N_ACTION)])\n",
    "\n",
    "print('true thetas for actions')\n",
    "for a in range(N_ACTION):\n",
    "    print('action ' + str(a) + ': ' + str(get_true_thetas(a)))\n"
   ]
  },
  {
   "cell_type": "code",
   "execution_count": 7,
   "metadata": {},
   "outputs": [],
   "source": [
    "#contextual MAB\n",
    "class Bandit():\n",
    "    def __init__(self, n_feature, n_action, policy):\n",
    "        self.policy = policy\n",
    "        self.thetas = np.zeros((n_action,n_feature))\n",
    "        self.n_a = n_action\n",
    "        self.n_f = n_feature\n",
    "        self.Ds = [np.zeros(3).reshape(1,3)] * self.n_a\n",
    "        self.Cs = [0] * self.n_a\n",
    "        \n",
    "    def pick_action(self,x):\n",
    "        if self.policy == 'random':\n",
    "            return np.random.randint(0,self.n_a)\n",
    "        elif self.policy == 'egreedy':\n",
    "            if np.random.rand()<0.2:\n",
    "                return np.random.randint(0,self.n_a)\n",
    "            else:\n",
    "                return np.argmax([np.dot(x,self.thetas[a]) for a in range(self.n_a)])\n",
    "        elif self.policy == 'LinUCB':\n",
    "            delta = 0.3\n",
    "            max_E = np.NINF\n",
    "            best_a = 0\n",
    "            for a in range(self.n_a):\n",
    "                D = self.Ds[a]\n",
    "                A = np.dot(D.T,D) + np.identity(self.n_f)\n",
    "                A_inverse = inv(A)\n",
    "                alpha = 1. + np.sqrt(np.log(2./delta)/2.)\n",
    "                bound = alpha * np.sqrt(np.dot(np.dot(x.T, A_inverse), x))\n",
    "                E = np.dot(x.T,self.thetas[a]) + bound\n",
    "                if E > max_E:\n",
    "                    max_E = E\n",
    "                    best_a = a\n",
    "                \n",
    "            return best_a\n",
    "        else:\n",
    "            raise Exception('no policy found')\n",
    "    def update_model(self,x,a,r):\n",
    "        d = len(x)\n",
    "        self.Ds[a] = np.append(self.Ds[a],[x],axis=0)\n",
    "        self.Cs[a] = np.append(self.Cs[a],r)\n",
    "        D = self.Ds[a]\n",
    "        C = self.Cs[a]\n",
    "        inverse = inv(np.dot(D.T, D) + np.identity(d))\n",
    "        new_theta = np.dot(np.dot(inverse,D.T), C)\n",
    "        self.thetas[a] = new_theta\n",
    "        \n",
    "    "
   ]
  },
  {
   "cell_type": "code",
   "execution_count": 19,
   "metadata": {},
   "outputs": [
    {
     "name": "stdout",
     "output_type": "stream",
     "text": [
      "thetas\n",
      "action 0: [0.75669913 1.54889775 0.99230133]\n",
      "action 1: [0.73017446 0.14900576 1.18026309]\n",
      "action 2: [0.18990987 2.45789877 2.81667537]\n",
      "action 3: [0.06516996 1.38934531 0.17427493]\n",
      "action 4: [ 0.83266416  2.62332078 -1.35245754]\n",
      "thetas\n",
      "action 0: [0.74588812 1.57240614 1.01319295]\n",
      "action 1: [0.72348751 0.12228589 1.22499339]\n",
      "action 2: [0.19799505 2.4527274  2.81008372]\n",
      "action 3: [-0.07919404  1.95261349  0.64489333]\n",
      "action 4: [ 0.83796549  2.61596587 -1.63118355]\n",
      "thetas\n",
      "action 0: [0.74872136 1.56234804 1.01229549]\n",
      "action 1: [0.72602946 0.12750513 1.21522714]\n",
      "action 2: [0.19057436 2.45761236 2.81622364]\n",
      "action 3: [-0.0553199   1.93402219  0.6423856 ]\n",
      "action 4: [ 0.84388508  2.61341405 -1.62210433]\n"
     ]
    },
    {
     "data": {
      "text/plain": [
       "<matplotlib.legend.Legend at 0x115c3c278>"
      ]
     },
     "execution_count": 19,
     "metadata": {},
     "output_type": "execute_result"
    },
    {
     "data": {
      "image/png": "[encoded data removed]",
      "text/plain": [
       "<Figure size 432x288 with 1 Axes>"
      ]
     },
     "metadata": {
      "needs_background": "light"
     },
     "output_type": "display_data"
    }
   ],
   "source": [
    "#run simulation\n",
    "ITERATIONS = 500\n",
    "def run_experiment(iterations, policy):\n",
    "    np.random.seed(0)\n",
    "    regret = 0.\n",
    "    regret_list = []\n",
    "    model = Bandit(N_FEATURE, N_ACTION, policy)\n",
    "    for t in range(iterations):\n",
    "        context = get_rand_context()\n",
    "        a = model.pick_action(context)\n",
    "        r = get_true_reward(context,a)\n",
    "        model.update_model(context,a,r)\n",
    "        regret += abs(r - get_true_reward(context,get_optimal_action(context)))\n",
    "        regret_list.append(regret)\n",
    "    \n",
    "    print('thetas')\n",
    "    for a in range(model.n_a):\n",
    "        print('action ' + str(a) + ': ' + str(model.thetas[a]))\n",
    "    plt.plot(regret_list, label=policy)\n",
    "    return\n",
    "\n",
    "fig = plt.figure()\n",
    "ax = plt.axes()\n",
    "plt.title('cumulative regret')\n",
    "plt.xlabel('t')\n",
    "plt.ylabel('regret')\n",
    "\n",
    "run_experiment(ITERATIONS, 'LinUCB')\n",
    "run_experiment(ITERATIONS, 'random')\n",
    "run_experiment(ITERATIONS, 'egreedy')\n",
    "plt.legend()\n"
   ]
  },
  {
   "cell_type": "code",
   "execution_count": null,
   "metadata": {},
   "outputs": [],
   "source": []
  }
 ],
 "metadata": {
  "kernelspec": {
   "display_name": "Python 3",
   "language": "python",
   "name": "python3"
  },
  "language_info": {
   "codemirror_mode": {
    "name": "ipython",
    "version": 3
   },
   "file_extension": ".py",
   "mimetype": "text/x-python",
   "name": "python",
   "nbconvert_exporter": "python",
   "pygments_lexer": "ipython3",
   "version": "3.7.0"
  }
 },
 "nbformat": 4,
 "nbformat_minor": 2
}
